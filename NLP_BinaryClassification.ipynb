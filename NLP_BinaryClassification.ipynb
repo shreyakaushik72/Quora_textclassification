{
  "nbformat": 4,
  "nbformat_minor": 0,
  "metadata": {
    "accelerator": "GPU",
    "colab": {
      "provenance": []
    },
    "kernelspec": {
      "display_name": "Python 3",
      "name": "python3"
    }
  },
  "cells": [
    {
      "cell_type": "markdown",
      "metadata": {
        "id": "Q8tcAS_9GRlK"
      },
      "source": [
        "The use case of this problem is that we have a dataset with which has Quora Questions as the text and the target variable is a binary classification problem."
      ]
    },
    {
      "cell_type": "code",
      "metadata": {
        "colab": {
          "base_uri": "https://localhost:8080/"
        },
        "id": "UTULNUE2dePf",
        "outputId": "5d45746f-f6f3-4dd4-d95b-6d40e08abba6"
      },
      "source": [
        "from google.colab import drive\n",
        "drive.mount('/content/drive')"
      ],
      "execution_count": null,
      "outputs": [
        {
          "output_type": "stream",
          "text": [
            "Mounted at /content/drive\n"
          ],
          "name": "stdout"
        }
      ]
    },
    {
      "cell_type": "markdown",
      "metadata": {
        "id": "DR87RrFHGs3l"
      },
      "source": [
        "Importing the libraries."
      ]
    },
    {
      "cell_type": "code",
      "metadata": {
        "id": "LeAplchBc3Fw"
      },
      "source": [
        "import pandas as pd\n",
        "from tensorflow.keras.models import Sequential\n",
        "from tensorflow.keras.layers import LSTM,Dense,Bidirectional,Embedding\n",
        "from tensorflow.keras.preprocessing.text import Tokenizer\n",
        "from tensorflow.keras.preprocessing.sequence import pad_sequences\n",
        "from nltk.tokenize import word_tokenize\n",
        "from nltk.stem import WordNetLemmatizer\n",
        "from nltk.corpus import stopwords\n",
        "from string import punctuation\n",
        "import numpy as np\n",
        "import matplotlib.pyplot as plt\n",
        "%matplotlib inline\n",
        "from tqdm import tqdm\n",
        "tqdm.pandas()"
      ],
      "execution_count": null,
      "outputs": []
    },
    {
      "cell_type": "markdown",
      "metadata": {
        "id": "2sAr_noZGvVq"
      },
      "source": [
        "Reading the dataset."
      ]
    },
    {
      "cell_type": "code",
      "metadata": {
        "colab": {
          "base_uri": "https://localhost:8080/",
          "height": 204
        },
        "id": "w_G6sxtjdOh4",
        "outputId": "bf327839-856f-41f6-e8ec-90c8e8055034"
      },
      "source": [
        "df = pd.read_csv('/content/drive/MyDrive/Datasets/Quora Text Classification Data.csv')\n",
        "df.head()"
      ],
      "execution_count": null,
      "outputs": [
        {
          "output_type": "execute_result",
          "data": {
            "text/html": [
              "<div>\n",
              "<style scoped>\n",
              "    .dataframe tbody tr th:only-of-type {\n",
              "        vertical-align: middle;\n",
              "    }\n",
              "\n",
              "    .dataframe tbody tr th {\n",
              "        vertical-align: top;\n",
              "    }\n",
              "\n",
              "    .dataframe thead th {\n",
              "        text-align: right;\n",
              "    }\n",
              "</style>\n",
              "<table border=\"1\" class=\"dataframe\">\n",
              "  <thead>\n",
              "    <tr style=\"text-align: right;\">\n",
              "      <th></th>\n",
              "      <th>qid</th>\n",
              "      <th>question_text</th>\n",
              "      <th>target</th>\n",
              "    </tr>\n",
              "  </thead>\n",
              "  <tbody>\n",
              "    <tr>\n",
              "      <th>0</th>\n",
              "      <td>00002165364db923c7e6</td>\n",
              "      <td>How did Quebec nationalists see their province...</td>\n",
              "      <td>0</td>\n",
              "    </tr>\n",
              "    <tr>\n",
              "      <th>1</th>\n",
              "      <td>000032939017120e6e44</td>\n",
              "      <td>Do you have an adopted dog, how would you enco...</td>\n",
              "      <td>0</td>\n",
              "    </tr>\n",
              "    <tr>\n",
              "      <th>2</th>\n",
              "      <td>0000412ca6e4628ce2cf</td>\n",
              "      <td>Why does velocity affect time? Does velocity a...</td>\n",
              "      <td>0</td>\n",
              "    </tr>\n",
              "    <tr>\n",
              "      <th>3</th>\n",
              "      <td>000042bf85aa498cd78e</td>\n",
              "      <td>How did Otto von Guericke used the Magdeburg h...</td>\n",
              "      <td>0</td>\n",
              "    </tr>\n",
              "    <tr>\n",
              "      <th>4</th>\n",
              "      <td>0000455dfa3e01eae3af</td>\n",
              "      <td>Can I convert montra helicon D to a mountain b...</td>\n",
              "      <td>0</td>\n",
              "    </tr>\n",
              "  </tbody>\n",
              "</table>\n",
              "</div>"
            ],
            "text/plain": [
              "                    qid  ... target\n",
              "0  00002165364db923c7e6  ...      0\n",
              "1  000032939017120e6e44  ...      0\n",
              "2  0000412ca6e4628ce2cf  ...      0\n",
              "3  000042bf85aa498cd78e  ...      0\n",
              "4  0000455dfa3e01eae3af  ...      0\n",
              "\n",
              "[5 rows x 3 columns]"
            ]
          },
          "metadata": {
            "tags": []
          },
          "execution_count": 3
        }
      ]
    },
    {
      "cell_type": "code",
      "metadata": {
        "colab": {
          "base_uri": "https://localhost:8080/"
        },
        "id": "OYMu3BQUeJU4",
        "outputId": "d9f8c438-599d-4895-943d-0d1c7f258a30"
      },
      "source": [
        "import nltk\n",
        "nltk.download('stopwords')\n",
        "nltk.download('punkt')\n",
        "nltk.download('wordnet')"
      ],
      "execution_count": null,
      "outputs": [
        {
          "output_type": "stream",
          "text": [
            "[nltk_data] Downloading package stopwords to /root/nltk_data...\n",
            "[nltk_data]   Unzipping corpora/stopwords.zip.\n",
            "[nltk_data] Downloading package punkt to /root/nltk_data...\n",
            "[nltk_data]   Unzipping tokenizers/punkt.zip.\n",
            "[nltk_data] Downloading package wordnet to /root/nltk_data...\n",
            "[nltk_data]   Unzipping corpora/wordnet.zip.\n"
          ],
          "name": "stdout"
        },
        {
          "output_type": "execute_result",
          "data": {
            "text/plain": [
              "True"
            ]
          },
          "metadata": {
            "tags": []
          },
          "execution_count": 4
        }
      ]
    },
    {
      "cell_type": "markdown",
      "metadata": {
        "id": "5kkHYV8cGzfx"
      },
      "source": [
        "Creating List of Stop words in order to remove it from the text."
      ]
    },
    {
      "cell_type": "code",
      "metadata": {
        "id": "Nq26i6gLd95E"
      },
      "source": [
        "stop_words = stopwords.words('english')+list(punctuation)\n",
        "lem = WordNetLemmatizer()"
      ],
      "execution_count": null,
      "outputs": []
    },
    {
      "cell_type": "markdown",
      "metadata": {
        "id": "-rV1w-SdG4HU"
      },
      "source": [
        "Basic Cleaning process of the text.\n",
        "\n",
        "\n",
        "1.   Converting the text into Lower Case\n",
        "2.   Tokenizing the words into tokens\n",
        "3.   Removing Stop words from the text in order to reduce the vocabulary size.\n",
        "4.   Lemmatizing the words and bring them into their base form.\n",
        "5.   Joining the tokenized words into simple texts again.\n",
        "\n"
      ]
    },
    {
      "cell_type": "code",
      "metadata": {
        "id": "yem2yVtRd0Mu"
      },
      "source": [
        "def cleaning(text):\n",
        "  text = text.lower()\n",
        "  words = word_tokenize(text)\n",
        "  words = [w for w in words if w not in stop_words]\n",
        "  words = [lem.lemmatize(w) for w in words]\n",
        "  return ' '.join(words)"
      ],
      "execution_count": null,
      "outputs": []
    },
    {
      "cell_type": "code",
      "metadata": {
        "colab": {
          "base_uri": "https://localhost:8080/"
        },
        "id": "3IRKA-JqeWGj",
        "outputId": "3ec26630-3626-444c-d0d7-66d64fa4f175"
      },
      "source": [
        "df['Clean Text'] = df['question_text'].progress_apply(cleaning)"
      ],
      "execution_count": null,
      "outputs": [
        {
          "output_type": "stream",
          "text": [
            "100%|██████████| 1306122/1306122 [03:49<00:00, 5700.37it/s]\n"
          ],
          "name": "stderr"
        }
      ]
    },
    {
      "cell_type": "code",
      "metadata": {
        "id": "SoB5VwHWehic",
        "colab": {
          "base_uri": "https://localhost:8080/"
        },
        "outputId": "80d717ad-cb09-49b3-f1cb-4a3e38b128cd"
      },
      "source": [
        "!unzip '/content/drive/MyDrive/Word Embeddings/glove.42B.300d.zip'"
      ],
      "execution_count": null,
      "outputs": [
        {
          "output_type": "stream",
          "text": [
            "Archive:  /content/drive/MyDrive/Word Embeddings/glove.42B.300d.zip\n",
            "  inflating: glove.42B.300d.txt      \n"
          ],
          "name": "stdout"
        }
      ]
    },
    {
      "cell_type": "markdown",
      "metadata": {
        "id": "r0hTfv01HURk"
      },
      "source": [
        "Loading the word embeddings from the glove text file."
      ]
    },
    {
      "cell_type": "code",
      "metadata": {
        "id": "KsbS9ZSNgsHU",
        "colab": {
          "base_uri": "https://localhost:8080/"
        },
        "outputId": "fc86d4cf-3eb4-406b-9721-624d75250ecc"
      },
      "source": [
        "embedding_values = {}\n",
        "f = open('/content/glove.42B.300d.txt')\n",
        "for line in tqdm(f):\n",
        "  value = line.split(' ')\n",
        "  word = value[0]\n",
        "  coef = np.array(value[1],dtype = \"float32\")\n",
        "  if coef is not None:\n",
        "    embedding_values[word] = coef"
      ],
      "execution_count": null,
      "outputs": [
        {
          "output_type": "stream",
          "text": [
            "1917494it [01:44, 18363.53it/s]\n"
          ],
          "name": "stderr"
        }
      ]
    },
    {
      "cell_type": "code",
      "metadata": {
        "id": "dyRwN4fWh2aO"
      },
      "source": [
        "tokenizer = Tokenizer()\n",
        "x = df['Clean Text']\n",
        "y = df['target']\n",
        "\n",
        "tokenizer.fit_on_texts(x)\n",
        "\n",
        "\n",
        "seq = tokenizer.texts_to_sequences(x)\n",
        "pad_seq = pad_sequences(seq,maxlen = 300)\n"
      ],
      "execution_count": null,
      "outputs": []
    },
    {
      "cell_type": "code",
      "metadata": {
        "id": "lHJD3KhrjlsK",
        "colab": {
          "base_uri": "https://localhost:8080/"
        },
        "outputId": "104c581e-6b28-4d2a-e9f0-1a8e5f84769a"
      },
      "source": [
        "vocab_size = len(tokenizer.word_index)+1\n",
        "print(vocab_size)"
      ],
      "execution_count": null,
      "outputs": [
        {
          "output_type": "stream",
          "text": [
            "193365\n"
          ],
          "name": "stdout"
        }
      ]
    },
    {
      "cell_type": "markdown",
      "metadata": {
        "id": "5HD3zDN_HfIQ"
      },
      "source": [
        "Converting the words into embeddings"
      ]
    },
    {
      "cell_type": "code",
      "metadata": {
        "id": "2h24686Bj8Bc",
        "colab": {
          "base_uri": "https://localhost:8080/"
        },
        "outputId": "97973c0b-a7d0-4fb2-9590-3f23f09e583f"
      },
      "source": [
        "embedding_matrix = np.zeros((vocab_size,300))\n",
        "for word, i in tqdm(tokenizer.word_index.items()):\n",
        "  value = embedding_values.get(word)\n",
        "  if value is not None:\n",
        "    embedding_matrix[i] = value"
      ],
      "execution_count": null,
      "outputs": [
        {
          "output_type": "stream",
          "text": [
            "100%|██████████| 193364/193364 [00:00<00:00, 595800.01it/s]\n"
          ],
          "name": "stderr"
        }
      ]
    },
    {
      "cell_type": "markdown",
      "metadata": {
        "id": "P5s07r7hHiHp"
      },
      "source": [
        "Creating a deep learning model using LSTM."
      ]
    },
    {
      "cell_type": "code",
      "metadata": {
        "colab": {
          "base_uri": "https://localhost:8080/"
        },
        "id": "anFEnFzzmvkt",
        "outputId": "e9340c7d-9a65-41d1-df74-cbc2e9ad31a8"
      },
      "source": [
        "model = Sequential()\n",
        "model.add(Embedding(vocab_size,300,input_length=300,weights = [embedding_matrix],trainable = False))\n",
        "model.add(LSTM(50,return_sequences=False))\n",
        "model.add(Dense(128,activation ='relu'))\n",
        "model.add(Dense(1,activation= 'sigmoid'))\n",
        "model.compile(optimizer = 'adam',loss='binary_crossentropy',metrics = ['accuracy'])\n",
        "\n",
        "history = model.fit(pad_seq,y,validation_split=0.2,epochs = 5)"
      ],
      "execution_count": null,
      "outputs": [
        {
          "output_type": "stream",
          "text": [
            "Epoch 1/5\n",
            "32654/32654 [==============================] - 532s 16ms/step - loss: 0.2171 - accuracy: 0.9374 - val_loss: 0.2108 - val_accuracy: 0.9377\n",
            "Epoch 2/5\n",
            "32654/32654 [==============================] - 526s 16ms/step - loss: 0.2121 - accuracy: 0.9379 - val_loss: 0.2116 - val_accuracy: 0.9377\n",
            "Epoch 3/5\n",
            "32654/32654 [==============================] - 527s 16ms/step - loss: 0.2090 - accuracy: 0.9380 - val_loss: 0.2089 - val_accuracy: 0.9377\n",
            "Epoch 4/5\n",
            "32654/32654 [==============================] - 530s 16ms/step - loss: 0.2078 - accuracy: 0.9382 - val_loss: 0.2079 - val_accuracy: 0.9377\n",
            "Epoch 5/5\n",
            "32654/32654 [==============================] - 521s 16ms/step - loss: 0.2057 - accuracy: 0.9385 - val_loss: 0.2076 - val_accuracy: 0.9377\n"
          ],
          "name": "stdout"
        }
      ]
    },
    {
      "cell_type": "code",
      "metadata": {
        "id": "slg18cD8S9Va"
      },
      "source": [
        "train_acc = history.history['accuracy']\n",
        "train_loss = history.history['loss']\n",
        "val_acc = history.history['val_accuracy']\n",
        "val_loss = history.history['val_loss']\n",
        "epochs = range(1,6)"
      ],
      "execution_count": null,
      "outputs": []
    },
    {
      "cell_type": "code",
      "metadata": {
        "colab": {
          "base_uri": "https://localhost:8080/",
          "height": 265
        },
        "id": "XVDu88CqTc9a",
        "outputId": "1069f458-e1a2-4c75-be55-d104d33b989c"
      },
      "source": [
        "plt.plot(epochs,train_acc,label = 'Train Accuracy')\n",
        "plt.plot(epochs,val_acc,label = 'Validation Accuracy')\n",
        "plt.legend()\n",
        "plt.show()"
      ],
      "execution_count": null,
      "outputs": [
        {
          "output_type": "display_data",
          "data": {
            "image/png": "[encoded data removed]",
            "text/plain": [
              "<Figure size 432x288 with 1 Axes>"
            ]
          },
          "metadata": {
            "tags": [],
            "needs_background": "light"
          }
        }
      ]
    },
    {
      "cell_type": "code",
      "metadata": {
        "colab": {
          "base_uri": "https://localhost:8080/",
          "height": 265
        },
        "id": "uyQjZwXDThmp",
        "outputId": "4635d0a7-7d6e-46e8-ef7b-ff014f69bb8d"
      },
      "source": [
        "plt.plot(epochs,train_loss,label = 'Train Loss')\n",
        "plt.plot(epochs,val_loss,label = 'Validation Loss')\n",
        "plt.legend()\n",
        "plt.show()"
      ],
      "execution_count": null,
      "outputs": [
        {
          "output_type": "display_data",
          "data": {
            "image/png": "[encoded data removed]",
            "text/plain": [
              "<Figure size 432x288 with 1 Axes>"
            ]
          },
          "metadata": {
            "tags": [],
            "needs_background": "light"
          }
        }
      ]
    },
    {
      "cell_type": "code",
      "metadata": {
        "id": "Nh9I-NPhT5ys"
      },
      "source": [],
      "execution_count": null,
      "outputs": []
    }
  ]
}